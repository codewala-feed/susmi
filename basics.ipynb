{
 "cells": [
  {
   "cell_type": "code",
   "execution_count": 8,
   "id": "0a046d67",
   "metadata": {},
   "outputs": [
    {
     "name": "stdout",
     "output_type": "stream",
     "text": [
      "Hey susmi..u r 24 years old and i luv u :)\n"
     ]
    }
   ],
   "source": [
    "name = \"susmi\"\n",
    "age = 24\n",
    "print(f\"Hey {name}..u r {age} years old and i luv u :)\")"
   ]
  },
  {
   "cell_type": "code",
   "execution_count": 12,
   "id": "519f462c",
   "metadata": {},
   "outputs": [
    {
     "name": "stdout",
     "output_type": "stream",
     "text": [
      "125 is Big Odd\n"
     ]
    }
   ],
   "source": [
    "n = 125\n",
    "if (n>=100):\n",
    "    if (n%2 == 0):\n",
    "        print(f\"{n} is Big Even\")\n",
    "    else:\n",
    "        print(f\"{n} is Big Odd\")\n",
    "else:\n",
    "    if (n%2 == 0):\n",
    "        print(f\"{n} is Small Even\")\n",
    "    else:\n",
    "        print(f\"{n} is Small Odd\")"
   ]
  },
  {
   "cell_type": "code",
   "execution_count": null,
   "id": "d5888e6f",
   "metadata": {},
   "outputs": [
    {
     "name": "stdout",
     "output_type": "stream",
     "text": [
      "{'name': 'nikhil', 'email': 'susmi@gmail.com', 'password': 'Susmi#123', 'phn': 987654}\n",
      "susmi@gmail.com Susmi#123\n"
     ]
    }
   ],
   "source": [
    "# dictionary -> mutable, unordered, no index, no duplicates\n",
    "data = {\n",
    "    \t\"name\": \"susmii\", \n",
    "        \"age\": 24, \n",
    "        \"email\":\"susmi@gmail.com\",\n",
    "        \"password\":\"Susmi#123\"\n",
    "    }\n",
    "data[\"phn\"] = 987654\n",
    "data[\"name\"] = \"nikhil\"\n",
    "data.pop(\"age\")\n",
    "print(data)\n",
    "print(data[\"email\"], data[\"password\"])\n"
   ]
  }
 ],
 "metadata": {
  "kernelspec": {
   "display_name": "Python 3",
   "language": "python",
   "name": "python3"
  },
  "language_info": {
   "codemirror_mode": {
    "name": "ipython",
    "version": 3
   },
   "file_extension": ".py",
   "mimetype": "text/x-python",
   "name": "python",
   "nbconvert_exporter": "python",
   "pygments_lexer": "ipython3",
   "version": "3.12.4"
  }
 },
 "nbformat": 4,
 "nbformat_minor": 5
}
